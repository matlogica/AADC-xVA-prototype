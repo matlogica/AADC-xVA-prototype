{
 "cells": [
  {
   "cell_type": "code",
   "execution_count": 1,
   "id": "42ba5d79-0513-43bc-af6b-474478c82d56",
   "metadata": {},
   "outputs": [],
   "source": [
    "import numpy as np\n",
    "from contract import Contract, Cashflow, Leg, Fork\n",
    "from observable import Observation, Observable, Ticker\n",
    "from datetime import datetime"
   ]
  },
  {
   "cell_type": "markdown",
   "id": "b156dbbf",
   "metadata": {},
   "source": [
    "# class Contract\n",
    "\n",
    "Base class to represent a Contract\n",
    "\n",
    "# class CashFlow\n",
    "\n",
    "Actual payment of a market observable. \n"
   ]
  },
  {
   "cell_type": "code",
   "execution_count": 2,
   "id": "5999b127",
   "metadata": {},
   "outputs": [
    {
     "data": {
      "text/plain": [
       "(EUR.LIBOR.6M(2024-07-10) + 0.002)\t1000000\tEUR\t2024-07-12"
      ]
     },
     "execution_count": 2,
     "metadata": {},
     "output_type": "execute_result"
    }
   ],
   "source": [
    "Libor6M = Ticker(\"EUR.LIBOR.6M\", \"Reuters\")\n",
    "fixing_date = datetime(2024, 7, 10)\n",
    "payment_date = datetime(2024, 7, 12)\n",
    "cf = Cashflow(Observation(Libor6M, fixing_date) + 0.002, payment_date, \"EUR\", 1_000_000)\n",
    "cf"
   ]
  },
  {
   "cell_type": "code",
   "execution_count": 3,
   "id": "4a5c11b7-5d3f-4cad-bb7f-375e7688ca06",
   "metadata": {},
   "outputs": [
    {
     "name": "stdout",
     "output_type": "stream",
     "text": [
      "max((EUR.LIBOR.6M(2024-07-10) - 0.01), 0.01))\t1000000\tEUR\t2024-07-12\n"
     ]
    }
   ],
   "source": [
    "cf2 = Cashflow(np.max(Observation(Libor6M, fixing_date) - 0.01, 0.01), payment_date, \"EUR\", 1_000_000)\n",
    "print(cf2)"
   ]
  },
  {
   "cell_type": "markdown",
   "id": "00e95431",
   "metadata": {},
   "source": [
    "## Spread option cash flow"
   ]
  },
  {
   "cell_type": "code",
   "execution_count": 4,
   "id": "6bf5590a",
   "metadata": {},
   "outputs": [],
   "source": [
    "Libor1M = Ticker(\"EUR.LIBOR.1M\", \"Reuters\")\n",
    "spread_cf = Cashflow(np.max(Observation(Libor6M, fixing_date) - Observation(Libor1M, fixing_date), 0.0), payment_date, \"EUR\", 1_000_000)\n"
   ]
  },
  {
   "cell_type": "markdown",
   "id": "860fcaa4",
   "metadata": {},
   "source": [
    "## Schedule\n",
    "\n",
    "We use datetime library, but can also use something like QuantLib"
   ]
  },
  {
   "cell_type": "code",
   "execution_count": 5,
   "id": "2a25e28b",
   "metadata": {},
   "outputs": [
    {
     "data": {
      "text/plain": [
       "[datetime.datetime(2025, 7, 8, 0, 0),\n",
       " datetime.datetime(2026, 7, 8, 0, 0),\n",
       " datetime.datetime(2027, 7, 8, 0, 0),\n",
       " datetime.datetime(2028, 7, 8, 0, 0),\n",
       " datetime.datetime(2029, 7, 8, 0, 0),\n",
       " datetime.datetime(2030, 7, 8, 0, 0),\n",
       " datetime.datetime(2031, 7, 8, 0, 0),\n",
       " datetime.datetime(2032, 7, 8, 0, 0),\n",
       " datetime.datetime(2033, 7, 8, 0, 0),\n",
       " datetime.datetime(2034, 7, 8, 0, 0)]"
      ]
     },
     "execution_count": 5,
     "metadata": {},
     "output_type": "execute_result"
    }
   ],
   "source": [
    "from schedule import schedule\n",
    "from dateutil.relativedelta import relativedelta\n",
    "\n",
    "start_date = datetime(2024, 7, 10)\n",
    "tenor = relativedelta(years=10)\n",
    "\n",
    "coupon_leg_schedule = schedule(start_date, tenor, frequency=relativedelta(years=1))\n",
    "coupon_fixings = [end - relativedelta(days=2) for _, end in coupon_leg_schedule]\n",
    "funding_leg_schedule = schedule(start_date, tenor, frequency=relativedelta(months=6))\n",
    "funding_fixings = [start - relativedelta(days=2) for start, _ in funding_leg_schedule]\n",
    "\n",
    "call_dates = coupon_fixings[1:]\n",
    "coupon_fixings"
   ]
  },
  {
   "cell_type": "code",
   "execution_count": 6,
   "id": "506c01cb",
   "metadata": {},
   "outputs": [],
   "source": [
    "CMS20Y = Ticker(\"EUR.CMS.20Y\", \"Reuters\")\n",
    "CMS2Y = Ticker(\"EUR.CMS.2Y\", \"Reuters\")\n",
    "Libor6M = Ticker(\"EUR.LIBOR.6M\", \"Reuters\")\n"
   ]
  },
  {
   "cell_type": "code",
   "execution_count": 7,
   "id": "f0050111",
   "metadata": {},
   "outputs": [],
   "source": [
    "funding_leg = Leg([Cashflow(Observation(Libor6M, fixing) + 0.002, payment_date, \"EUR\", 1_000_000) for fixing, (_, payment_date) in zip(funding_fixings, funding_leg_schedule)])"
   ]
  },
  {
   "cell_type": "code",
   "execution_count": 8,
   "id": "3e5304bf",
   "metadata": {},
   "outputs": [],
   "source": [
    "coupons = [np.max(Observation(CMS20Y, fixing) - 2 * Observation(CMS2Y, fixing), 0.0) for fixing in coupon_fixings]\n"
   ]
  },
  {
   "cell_type": "code",
   "execution_count": 9,
   "id": "3e4d0293",
   "metadata": {},
   "outputs": [],
   "source": [
    "cpn_leg = Leg([Cashflow(coupon, payment_date, \"EUR\", 1_000_000) for coupon, (_, payment_date) in zip(coupons, coupon_leg_schedule)])"
   ]
  },
  {
   "cell_type": "code",
   "execution_count": 10,
   "id": "3e5959a2",
   "metadata": {},
   "outputs": [
    {
     "data": {
      "text/plain": [
       "[(EUR.LIBOR.6M(2024-07-08) + 0.002)\t1000000\tEUR\t2025-01-10\n",
       " (EUR.LIBOR.6M(2025-01-08) + 0.002)\t1000000\tEUR\t2025-07-10\n",
       " (EUR.LIBOR.6M(2025-07-08) + 0.002)\t1000000\tEUR\t2026-01-10\n",
       " (EUR.LIBOR.6M(2026-01-08) + 0.002)\t1000000\tEUR\t2026-07-10\n",
       " (EUR.LIBOR.6M(2026-07-08) + 0.002)\t1000000\tEUR\t2027-01-10\n",
       " (EUR.LIBOR.6M(2027-01-08) + 0.002)\t1000000\tEUR\t2027-07-10\n",
       " (EUR.LIBOR.6M(2027-07-08) + 0.002)\t1000000\tEUR\t2028-01-10\n",
       " (EUR.LIBOR.6M(2028-01-08) + 0.002)\t1000000\tEUR\t2028-07-10\n",
       " (EUR.LIBOR.6M(2028-07-08) + 0.002)\t1000000\tEUR\t2029-01-10\n",
       " (EUR.LIBOR.6M(2029-01-08) + 0.002)\t1000000\tEUR\t2029-07-10\n",
       " (EUR.LIBOR.6M(2029-07-08) + 0.002)\t1000000\tEUR\t2030-01-10\n",
       " (EUR.LIBOR.6M(2030-01-08) + 0.002)\t1000000\tEUR\t2030-07-10\n",
       " (EUR.LIBOR.6M(2030-07-08) + 0.002)\t1000000\tEUR\t2031-01-10\n",
       " (EUR.LIBOR.6M(2031-01-08) + 0.002)\t1000000\tEUR\t2031-07-10\n",
       " (EUR.LIBOR.6M(2031-07-08) + 0.002)\t1000000\tEUR\t2032-01-10\n",
       " (EUR.LIBOR.6M(2032-01-08) + 0.002)\t1000000\tEUR\t2032-07-10\n",
       " (EUR.LIBOR.6M(2032-07-08) + 0.002)\t1000000\tEUR\t2033-01-10\n",
       " (EUR.LIBOR.6M(2033-01-08) + 0.002)\t1000000\tEUR\t2033-07-10\n",
       " (EUR.LIBOR.6M(2033-07-08) + 0.002)\t1000000\tEUR\t2034-01-10\n",
       " (EUR.LIBOR.6M(2034-01-08) + 0.002)\t1000000\tEUR\t2034-07-10,\n",
       " max((EUR.CMS.20Y(2025-07-08) - (EUR.CMS.2Y(2025-07-08) * 2)), 0.0))\t1000000\tEUR\t2025-07-10\n",
       " max((EUR.CMS.20Y(2026-07-08) - (EUR.CMS.2Y(2026-07-08) * 2)), 0.0))\t1000000\tEUR\t2026-07-10\n",
       " max((EUR.CMS.20Y(2027-07-08) - (EUR.CMS.2Y(2027-07-08) * 2)), 0.0))\t1000000\tEUR\t2027-07-10\n",
       " max((EUR.CMS.20Y(2028-07-08) - (EUR.CMS.2Y(2028-07-08) * 2)), 0.0))\t1000000\tEUR\t2028-07-10\n",
       " max((EUR.CMS.20Y(2029-07-08) - (EUR.CMS.2Y(2029-07-08) * 2)), 0.0))\t1000000\tEUR\t2029-07-10\n",
       " max((EUR.CMS.20Y(2030-07-08) - (EUR.CMS.2Y(2030-07-08) * 2)), 0.0))\t1000000\tEUR\t2030-07-10\n",
       " max((EUR.CMS.20Y(2031-07-08) - (EUR.CMS.2Y(2031-07-08) * 2)), 0.0))\t1000000\tEUR\t2031-07-10\n",
       " max((EUR.CMS.20Y(2032-07-08) - (EUR.CMS.2Y(2032-07-08) * 2)), 0.0))\t1000000\tEUR\t2032-07-10\n",
       " max((EUR.CMS.20Y(2033-07-08) - (EUR.CMS.2Y(2033-07-08) * 2)), 0.0))\t1000000\tEUR\t2033-07-10\n",
       " max((EUR.CMS.20Y(2034-07-08) - (EUR.CMS.2Y(2034-07-08) * 2)), 0.0))\t1000000\tEUR\t2034-07-10]"
      ]
     },
     "execution_count": 10,
     "metadata": {},
     "output_type": "execute_result"
    }
   ],
   "source": [
    "swap_contract = funding_leg - cpn_leg\n",
    "swap_contract"
   ]
  },
  {
   "cell_type": "markdown",
   "id": "58838e76",
   "metadata": {},
   "source": [
    "## Snowball example"
   ]
  },
  {
   "cell_type": "code",
   "execution_count": 11,
   "id": "04acadf1",
   "metadata": {},
   "outputs": [
    {
     "data": {
      "text/plain": [
       "array([max((EUR.CMS.20Y(2025-07-08) - (EUR.CMS.2Y(2025-07-08) * 2)), 0.0)),\n",
       "       (max((EUR.CMS.20Y(2025-07-08) - (EUR.CMS.2Y(2025-07-08) * 2)), 0.0)) + max((EUR.CMS.20Y(2026-07-08) - (EUR.CMS.2Y(2026-07-08) * 2)), 0.0))),\n",
       "       ((max((EUR.CMS.20Y(2025-07-08) - (EUR.CMS.2Y(2025-07-08) * 2)), 0.0)) + max((EUR.CMS.20Y(2026-07-08) - (EUR.CMS.2Y(2026-07-08) * 2)), 0.0))) + max((EUR.CMS.20Y(2027-07-08) - (EUR.CMS.2Y(2027-07-08) * 2)), 0.0)))],\n",
       "      dtype=object)"
      ]
     },
     "execution_count": 11,
     "metadata": {},
     "output_type": "execute_result"
    }
   ],
   "source": [
    "snowball_cfs = np.cumsum(coupons)\n",
    "snowball_cfs[0:3]\n"
   ]
  },
  {
   "cell_type": "markdown",
   "id": "adab1423",
   "metadata": {},
   "source": [
    "# Handling optionality\n",
    "\n",
    "## class Fork\n",
    "\n",
    "Represents a switch from one contract to another. It's defined using the condition, contract1 and contract2.\n",
    "\n",
    "The condition is an observable, it can be an expression computed using market indices or it can be based on either conterparty decision.\n",
    "\n",
    "If the condition is evaluated to a positive value, contract1 is in force. Otherwise, contract2 is in force.\n",
    "\n"
   ]
  },
  {
   "cell_type": "markdown",
   "id": "841e1750",
   "metadata": {},
   "source": [
    "## European payoff example"
   ]
  },
  {
   "cell_type": "code",
   "execution_count": 12,
   "id": "6b7640b0",
   "metadata": {},
   "outputs": [
    {
     "data": {
      "text/plain": [
       "if TradeID(2024-07-10) is positive then\n",
       "    AAPL(2024-07-10)\t1000000\tEUR\t2024-07-10\n",
       "    100.0\t-1000000\tEUR\t2024-07-10\n",
       "else\n",
       "    None"
      ]
     },
     "execution_count": 12,
     "metadata": {},
     "output_type": "execute_result"
    }
   ],
   "source": [
    "strike = 100.0\n",
    "expiry = datetime(2024, 7, 10)\n",
    "ccy = \"EUR\"\n",
    "notional = 1_000_000\n",
    "ticker = Ticker(\"AAPL\", \"Yahoo\")\n",
    "european_put_option = Cashflow(np.max(Observation(ticker, expiry) - strike, 0), expiry, ccy, notional)\n",
    "\n",
    "# european_call_option using Fork in \"autocallable\" style\n",
    "call_flag = Observation(ticker, expiry) - strike\n",
    "european_call_option = Fork(call_flag, Cashflow(Observation(ticker, expiry), expiry, ccy, notional) - Cashflow(strike, expiry, ccy, notional), None)\n",
    "\n",
    "# european_call_option using Fork with counterparty decision\n",
    "# For pricing purposes, the decision can be modeled using Longstaff-Schwartz algorithm\n",
    "cpty_decision = Observation(Ticker(\"TradeID\", \"CPTY\"), expiry)\n",
    "european_call_option2 = Fork(cpty_decision, Cashflow(Observation(ticker, expiry), expiry, ccy, notional) - Cashflow(strike, expiry, ccy, notional), None)\n",
    "european_call_option2"
   ]
  },
  {
   "cell_type": "markdown",
   "id": "34b9fc74",
   "metadata": {},
   "source": [
    "Fork with decision parameter allows for accurate settlement. For pricing purposes decision parameter can be estimated using Longstaff-Schwartz algorithm. \n",
    "For path-wise AAD method, decision parameter can be used to smooth digital payoffs."
   ]
  }
 ],
 "metadata": {
  "kernelspec": {
   "display_name": "Python 3 (ipykernel)",
   "language": "python",
   "name": "python3"
  },
  "language_info": {
   "codemirror_mode": {
    "name": "ipython",
    "version": 3
   },
   "file_extension": ".py",
   "mimetype": "text/x-python",
   "name": "python",
   "nbconvert_exporter": "python",
   "pygments_lexer": "ipython3",
   "version": "3.11.2"
  }
 },
 "nbformat": 4,
 "nbformat_minor": 5
}
