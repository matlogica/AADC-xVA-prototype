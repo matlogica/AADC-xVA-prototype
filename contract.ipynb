{
 "cells": [
  {
   "cell_type": "markdown",
   "id": "d4a87a94",
   "metadata": {},
   "source": [
    "# Financial Contracts and Complex Instruments\n",
    "\n",
    "This notebook demonstrates the implementation and usage of a flexible contract system for financial instruments. The system supports:\n",
    "- Basic cash flows and payments\n",
    "- Complex derivative structures\n",
    "- Callable and autocallable products\n",
    "- Target redemption notes (TARNs)\n",
    "- Decision-based optionality\n",
    "\n",
    "The implementation uses a compositional approach where complex products are built from simpler building blocks."
   ]
  },
  {
   "cell_type": "code",
   "execution_count": 1,
   "id": "4ab510f5",
   "metadata": {},
   "outputs": [],
   "source": [
    "import numpy as np\n",
    "from datetime import datetime\n",
    "from dateutil.relativedelta import relativedelta\n",
    "from contract import Contract, Cashflow, Leg, Option\n",
    "from observable import Observation, Observable, Ticker\n",
    "from schedule import schedule"
   ]
  },
  {
   "cell_type": "markdown",
   "id": "66531e6b",
   "metadata": {},
   "source": [
    "## 1. Basic Building Blocks\n",
    "\n",
    "### 1.1 Contract Hierarchy\n",
    "\n",
    "The system is built on these core classes:\n",
    "- `Contract`: Base class for all financial contracts\n",
    "- `Cashflow`: Represents a single payment with observable amount\n",
    "- `Leg`: Collection of related cashflows\n",
    "- `Option`: Represents conditional execution between contracts\n",
    "\n",
    "Let's start with some basic examples:"
   ]
  },
  {
   "cell_type": "code",
   "execution_count": 2,
   "id": "4c9ecac7",
   "metadata": {},
   "outputs": [
    {
     "name": "stdout",
     "output_type": "stream",
     "text": [
      "Floating rate payment:\n",
      "(EUR.LIBOR.6M(2024-07-10) + 0.002)\t1000000\tEUR\t2024-07-12\n"
     ]
    }
   ],
   "source": [
    "# Define some common market observables\n",
    "libor_6m = Ticker(\"EUR.LIBOR.6M\", \"Reuters\")\n",
    "cms_20y = Ticker(\"EUR.CMS.20Y\", \"Reuters\")\n",
    "cms_2y = Ticker(\"EUR.CMS.2Y\", \"Reuters\")\n",
    "\n",
    "# Create a floating rate payment\n",
    "fixing_date = datetime(2024, 7, 10)\n",
    "payment_date = datetime(2024, 7, 12)\n",
    "notional = 1_000_000\n",
    "\n",
    "# Simple Libor + spread payment\n",
    "floating_payment = Cashflow(\n",
    "    observable=Observation(libor_6m, fixing_date) + 0.002,  # Libor + 20bps\n",
    "    payment_date=payment_date,\n",
    "    payment_currency=\"EUR\",\n",
    "    notional=notional\n",
    ")\n",
    "\n",
    "print(\"Floating rate payment:\")\n",
    "print(floating_payment)"
   ]
  },
  {
   "cell_type": "markdown",
   "id": "b468d024",
   "metadata": {},
   "source": [
    "### 1.2 Structured Payoffs\n",
    "\n",
    "We can create more complex payoffs using mathematical operations on observables:"
   ]
  },
  {
   "cell_type": "code",
   "execution_count": 3,
   "id": "bf42c4c4",
   "metadata": {},
   "outputs": [
    {
     "name": "stdout",
     "output_type": "stream",
     "text": [
      "CMS spread option payoff:\n",
      "max((EUR.CMS.20Y(2024-07-10) - (EUR.CMS.2Y(2024-07-10) * 2)), 0.0))\t1000000\tEUR\t2024-07-12\n"
     ]
    }
   ],
   "source": [
    "# CMS spread option payoff\n",
    "cms_spread = Cashflow(\n",
    "    observable=np.max(Observation(cms_20y, fixing_date) - 2 * Observation(cms_2y, fixing_date), 0.0),\n",
    "    payment_date=payment_date,\n",
    "    payment_currency=\"EUR\",\n",
    "    notional=notional\n",
    ")\n",
    "\n",
    "print(\"CMS spread option payoff:\")\n",
    "print(cms_spread)"
   ]
  },
  {
   "cell_type": "markdown",
   "id": "453c34fc",
   "metadata": {},
   "source": [
    "## 2. Building Complex Products\n",
    "\n",
    "### 2.1 Generating Payment Schedules\n",
    "\n",
    "For products with multiple payments, we first generate the payment schedule:"
   ]
  },
  {
   "cell_type": "code",
   "execution_count": 4,
   "id": "7bacd6ca",
   "metadata": {},
   "outputs": [
    {
     "name": "stdout",
     "output_type": "stream",
     "text": [
      "First 3 coupon dates:\n",
      "Period: 2024-07-10 to 2025-07-10\n",
      "Period: 2025-07-10 to 2026-07-10\n",
      "Period: 2026-07-10 to 2027-07-10\n"
     ]
    }
   ],
   "source": [
    "# Create 10-year schedules for a structured note\n",
    "start_date = datetime(2024, 7, 10)\n",
    "tenor = relativedelta(years=10)\n",
    "\n",
    "# Annual coupon schedule\n",
    "coupon_schedule = schedule(start_date, tenor, frequency=relativedelta(years=1))\n",
    "coupon_fixings = [end - relativedelta(days=2) for _, end in coupon_schedule]\n",
    "\n",
    "# Semi-annual funding schedule\n",
    "funding_schedule = schedule(start_date, tenor, frequency=relativedelta(months=6))\n",
    "funding_fixings = [start - relativedelta(days=2) for start, _ in funding_schedule]\n",
    "\n",
    "print(\"First 3 coupon dates:\")\n",
    "for start, end in coupon_schedule[:3]:\n",
    "    print(f\"Period: {start.date()} to {end.date()}\")"
   ]
  },
  {
   "cell_type": "markdown",
   "id": "b532d45a",
   "metadata": {},
   "source": [
    "### 2.2 Structured Note with Callable Feature\n",
    "\n",
    "Let's create a callable structured note with:\n",
    "- Semi-annual funding payments (Libor + spread)\n",
    "- Annual structured coupons (CMS spread)\n",
    "- Callable by issuer after first year"
   ]
  },
  {
   "cell_type": "code",
   "execution_count": 5,
   "id": "f6e83376",
   "metadata": {},
   "outputs": [
    {
     "name": "stdout",
     "output_type": "stream",
     "text": [
      "Callable Structured Note:\n",
      "(EUR.LIBOR.6M(2024-07-08) + 0.002)\t1000000\tEUR\t2025-01-10\n",
      "(EUR.LIBOR.6M(2025-01-08) + 0.002)\t1000000\tEUR\t2025-07-10\n",
      "max((EUR.CMS.20Y(2025-07-08) - (EUR.CMS.2Y(2025-07-08) * 2)), 0.0))\t-1000000\tEUR\t2025-07-10\n",
      "if Call(2026-07-08) is positive then\n",
      "    None\n",
      "else\n",
      "    (EUR.LIBOR.6M(2025-07-08) + 0.002)\t1000000\tEUR\t2026-01-10\n",
      "    (EUR.LIBOR.6M(2026-01-08) + 0.002)\t1000000\tEUR\t2026-07-10\n",
      "    max((EUR.CMS.20Y(2026-07-08) - (EUR.CMS.2Y(2026-07-08) * 2)), 0.0))\t-1000000\tEUR\t2026-07-10\n",
      "    if Call(2027-07-08) is positive then\n",
      "        None\n",
      "    else\n",
      "        (EUR.LIBOR.6M(2026-07-08) + 0.002)\t1000000\tEUR\t2027-01-10\n",
      "        (EUR.LIBOR.6M(2027-01-08) + 0.002)\t1000000\tEUR\t2027-07-10\n",
      "        max((EUR.CMS.20Y(2027-07-08) - (EUR.CMS.2Y(2027-07-08) * 2)), 0.0))\t-1000000\tEUR\t2027-07-10\n",
      "        if Call(2028-07-08) is positive then\n",
      "            None\n",
      "        else\n",
      "            (EUR.LIBOR.6M(2027-07-08) + 0.002)\t1000000\tEUR\t2028-01-10\n",
      "            (EUR.LIBOR.6M(2028-01-08) + 0.002)\t1000000\tEUR\t2028-07-10\n",
      "            max((EUR.CMS.20Y(2028-07-08) - (EUR.CMS.2Y(2028-07-08) * 2)), 0.0))\t-1000000\tEUR\t2028-07-10\n",
      "            if Call(2029-07-08) is positive then\n",
      "                None\n",
      "            else\n",
      "                (EUR.LIBOR.6M(2028-07-08) + 0.002)\t1000000\tEUR\t2029-01-10\n",
      "                (EUR.LIBOR.6M(2029-01-08) + 0.002)\t1000000\tEUR\t2029-07-10\n",
      "                max((EUR.CMS.20Y(2029-07-08) - (EUR.CMS.2Y(2029-07-08) * 2)), 0.0))\t-1000000\tEUR\t2029-07-10\n",
      "                if Call(2030-07-08) is positive then\n",
      "                    None\n",
      "                else\n",
      "                    (EUR.LIBOR.6M(2029-07-08) + 0.002)\t1000000\tEUR\t2030-01-10\n",
      "                    (EUR.LIBOR.6M(2030-01-08) + 0.002)\t1000000\tEUR\t2030-07-10\n",
      "                    max((EUR.CMS.20Y(2030-07-08) - (EUR.CMS.2Y(2030-07-08) * 2)), 0.0))\t-1000000\tEUR\t2030-07-10\n",
      "                    if Call(2031-07-08) is positive then\n",
      "                        None\n",
      "                    else\n",
      "                        (EUR.LIBOR.6M(2030-07-08) + 0.002)\t1000000\tEUR\t2031-01-10\n",
      "                        (EUR.LIBOR.6M(2031-01-08) + 0.002)\t1000000\tEUR\t2031-07-10\n",
      "                        max((EUR.CMS.20Y(2031-07-08) - (EUR.CMS.2Y(2031-07-08) * 2)), 0.0))\t-1000000\tEUR\t2031-07-10\n",
      "                        if Call(2032-07-08) is positive then\n",
      "                            None\n",
      "                        else\n",
      "                            (EUR.LIBOR.6M(2031-07-08) + 0.002)\t1000000\tEUR\t2032-01-10\n",
      "                            (EUR.LIBOR.6M(2032-01-08) + 0.002)\t1000000\tEUR\t2032-07-10\n",
      "                            max((EUR.CMS.20Y(2032-07-08) - (EUR.CMS.2Y(2032-07-08) * 2)), 0.0))\t-1000000\tEUR\t2032-07-10\n",
      "                            if Call(2033-07-08) is positive then\n",
      "                                None\n",
      "                            else\n",
      "                                (EUR.LIBOR.6M(2032-07-08) + 0.002)\t1000000\tEUR\t2033-01-10\n",
      "                                (EUR.LIBOR.6M(2033-01-08) + 0.002)\t1000000\tEUR\t2033-07-10\n",
      "                                max((EUR.CMS.20Y(2033-07-08) - (EUR.CMS.2Y(2033-07-08) * 2)), 0.0))\t-1000000\tEUR\t2033-07-10\n",
      "                                if Call(2034-07-08) is positive then\n",
      "                                    None\n",
      "                                else\n",
      "                                    (EUR.LIBOR.6M(2033-07-08) + 0.002)\t1000000\tEUR\t2034-01-10\n",
      "                                    (EUR.LIBOR.6M(2034-01-08) + 0.002)\t1000000\tEUR\t2034-07-10\n",
      "                                    max((EUR.CMS.20Y(2034-07-08) - (EUR.CMS.2Y(2034-07-08) * 2)), 0.0))\t-1000000\tEUR\t2034-07-10\n"
     ]
    }
   ],
   "source": [
    "# Create funding leg (semi-annual Libor + spread)\n",
    "funding_leg = Leg([\n",
    "    Cashflow(\n",
    "        Observation(libor_6m, fixing) + 0.002,\n",
    "        payment_date,\n",
    "        \"EUR\",\n",
    "        notional\n",
    "    ) \n",
    "    for fixing, (_, payment_date) in zip(funding_fixings, funding_schedule)\n",
    "])\n",
    "\n",
    "# Create coupon leg (annual CMS spread option)\n",
    "coupon_leg = Leg([\n",
    "    Cashflow(\n",
    "        np.max(Observation(cms_20y, fixing) - 2 * Observation(cms_2y, fixing), 0.0),\n",
    "        payment_date,\n",
    "        \"EUR\",\n",
    "        notional\n",
    "    )\n",
    "    for fixing, (_, payment_date) in zip(coupon_fixings, coupon_schedule)\n",
    "])\n",
    "\n",
    "# Add callable feature\n",
    "call_dates = coupon_fixings[1:]  # Callable after first year\n",
    "call_decisions = [Observation(Ticker(\"Call\", \"Issuer\"), date) for date in call_dates]\n",
    "\n",
    "# Build callable structure\n",
    "from contract import callable\n",
    "callable_note = callable(\n",
    "    call_decisions,\n",
    "    list(coupon_leg.contracts),\n",
    "    list(funding_leg.contracts),\n",
    "    cpn_per_call=1,\n",
    "    funding_per_call=2\n",
    ")\n",
    "\n",
    "print(\"Callable Structured Note:\")\n",
    "print(callable_note)"
   ]
  },
  {
   "cell_type": "markdown",
   "id": "e0870dda",
   "metadata": {},
   "source": [
    "### 2.3 Target Redemption Note (TARN)\n",
    "\n",
    "A TARN automatically redeems when cumulative coupons reach a target level. Let's modify our structure to include this feature:"
   ]
  },
  {
   "cell_type": "code",
   "execution_count": 6,
   "id": "1f1dcdaa",
   "metadata": {},
   "outputs": [
    {
     "name": "stdout",
     "output_type": "stream",
     "text": [
      "TARN Structure:\n",
      "\n",
      "\n",
      "if (max((EUR.CMS.20Y(2025-07-08) - (EUR.CMS.2Y(2025-07-08) * 2)), 0.0)) - 0.1) is positive then\n",
      "    None\n",
      "else\n",
      "    (EUR.LIBOR.6M(2024-07-08) + 0.002)\t1000000\tEUR\t2025-01-10\n",
      "    (EUR.LIBOR.6M(2025-01-08) + 0.002)\t1000000\tEUR\t2025-07-10\n",
      "    max((EUR.CMS.20Y(2025-07-08) - (EUR.CMS.2Y(2025-07-08) * 2)), 0.0))\t-1000000\tEUR\t2025-07-10\n",
      "    if ((max((EUR.CMS.20Y(2025-07-08) - (EUR.CMS.2Y(2025-07-08) * 2)), 0.0)) + max((EUR.CMS.20Y(2026-07-08) - (EUR.CMS.2Y(2026-07-08) * 2)), 0.0))) - 0.1) is positive then\n",
      "        None\n",
      "    else\n",
      "        (EUR.LIBOR.6M(2025-07-08) + 0.002)\t1000000\tEUR\t2026-01-10\n",
      "        (EUR.LIBOR.6M(2026-01-08) + 0.002)\t1000000\tEUR\t2026-07-10\n",
      "        max((EUR.CMS.20Y(2026-07-08) - (EUR.CMS.2Y(2026-07-08) * 2)), 0.0))\t-1000000\tEUR\t2026-07-10\n",
      "        if (((max((EUR.CMS.20Y(2025-07-08) - (EUR.CMS.2Y(2025-07-08) * 2)), 0.0)) + max((EUR.CMS.20Y(2026-07-08) - (EUR.CMS.2Y(2026-07-08) * 2)), 0.0))) + max((EUR.CMS.20Y(2027-07-08) - (EUR.CMS.2Y(2027-07-08) * 2)), 0.0))) - 0.1) is positive then\n",
      "            None\n",
      "        else\n",
      "            (EUR.LIBOR.6M(2026-07-08) + 0.002)\t1000000\tEUR\t2027-01-10\n",
      "            (EUR.LIBOR.6M(2027-01-08) + 0.002)\t1000000\tEUR\t2027-07-10\n",
      "            max((EUR.CMS.20Y(2027-07-08) - (EUR.CMS.2Y(2027-07-08) * 2)), 0.0))\t-1000000\tEUR\t2027-07-10\n",
      "            if ((((max((EUR.CMS.20Y(2025-07-08) - (EUR.CMS.2Y(2025-07-08) * 2)), 0.0)) + max((EUR.CMS.20Y(2026-07-08) - (EUR.CMS.2Y(2026-07-08) * 2)), 0.0))) + max((EUR.CMS.20Y(2027-07-08) - (EUR.CMS.2Y(2027-07-08) * 2)), 0.0))) + max((EUR.CMS.20Y(2028-07-08) - (EUR.CMS.2Y(2028-07-08) * 2)), 0.0))) - 0.1) is positive then\n",
      "                None\n",
      "            else\n",
      "                (EUR.LIBOR.6M(2027-07-08) + 0.002)\t1000000\tEUR\t2028-01-10\n",
      "                (EUR.LIBOR.6M(2028-01-08) + 0.002)\t1000000\tEUR\t2028-07-10\n",
      "                max((EUR.CMS.20Y(2028-07-08) - (EUR.CMS.2Y(2028-07-08) * 2)), 0.0))\t-1000000\tEUR\t2028-07-10\n",
      "                if (((((max((EUR.CMS.20Y(2025-07-08) - (EUR.CMS.2Y(2025-07-08) * 2)), 0.0)) + max((EUR.CMS.20Y(2026-07-08) - (EUR.CMS.2Y(2026-07-08) * 2)), 0.0))) + max((EUR.CMS.20Y(2027-07-08) - (EUR.CMS.2Y(2027-07-08) * 2)), 0.0))) + max((EUR.CMS.20Y(2028-07-08) - (EUR.CMS.2Y(2028-07-08) * 2)), 0.0))) + max((EUR.CMS.20Y(2029-07-08) - (EUR.CMS.2Y(2029-07-08) * 2)), 0.0))) - 0.1) is positive then\n",
      "                    None\n",
      "                else\n",
      "                    (EUR.LIBOR.6M(2028-07-08) + 0.002)\t1000000\tEUR\t2029-01-10\n",
      "                    (EUR.LIBOR.6M(2029-01-08) + 0.002)\t1000000\tEUR\t2029-07-10\n",
      "                    max((EUR.CMS.20Y(2029-07-08) - (EUR.CMS.2Y(2029-07-08) * 2)), 0.0))\t-1000000\tEUR\t2029-07-10\n",
      "                    if ((((((max((EUR.CMS.20Y(2025-07-08) - (EUR.CMS.2Y(2025-07-08) * 2)), 0.0)) + max((EUR.CMS.20Y(2026-07-08) - (EUR.CMS.2Y(2026-07-08) * 2)), 0.0))) + max((EUR.CMS.20Y(2027-07-08) - (EUR.CMS.2Y(2027-07-08) * 2)), 0.0))) + max((EUR.CMS.20Y(2028-07-08) - (EUR.CMS.2Y(2028-07-08) * 2)), 0.0))) + max((EUR.CMS.20Y(2029-07-08) - (EUR.CMS.2Y(2029-07-08) * 2)), 0.0))) + max((EUR.CMS.20Y(2030-07-08) - (EUR.CMS.2Y(2030-07-08) * 2)), 0.0))) - 0.1) is positive then\n",
      "                        None\n",
      "                    else\n",
      "                        (EUR.LIBOR.6M(2029-07-08) + 0.002)\t1000000\tEUR\t2030-01-10\n",
      "                        (EUR.LIBOR.6M(2030-01-08) + 0.002)\t1000000\tEUR\t2030-07-10\n",
      "                        max((EUR.CMS.20Y(2030-07-08) - (EUR.CMS.2Y(2030-07-08) * 2)), 0.0))\t-1000000\tEUR\t2030-07-10\n",
      "                        if (((((((max((EUR.CMS.20Y(2025-07-08) - (EUR.CMS.2Y(2025-07-08) * 2)), 0.0)) + max((EUR.CMS.20Y(2026-07-08) - (EUR.CMS.2Y(2026-07-08) * 2)), 0.0))) + max((EUR.CMS.20Y(2027-07-08) - (EUR.CMS.2Y(2027-07-08) * 2)), 0.0))) + max((EUR.CMS.20Y(2028-07-08) - (EUR.CMS.2Y(2028-07-08) * 2)), 0.0))) + max((EUR.CMS.20Y(2029-07-08) - (EUR.CMS.2Y(2029-07-08) * 2)), 0.0))) + max((EUR.CMS.20Y(2030-07-08) - (EUR.CMS.2Y(2030-07-08) * 2)), 0.0))) + max((EUR.CMS.20Y(2031-07-08) - (EUR.CMS.2Y(2031-07-08) * 2)), 0.0))) - 0.1) is positive then\n",
      "                            None\n",
      "                        else\n",
      "                            (EUR.LIBOR.6M(2030-07-08) + 0.002)\t1000000\tEUR\t2031-01-10\n",
      "                            (EUR.LIBOR.6M(2031-01-08) + 0.002)\t1000000\tEUR\t2031-07-10\n",
      "                            max((EUR.CMS.20Y(2031-07-08) - (EUR.CMS.2Y(2031-07-08) * 2)), 0.0))\t-1000000\tEUR\t2031-07-10\n",
      "                            if ((((((((max((EUR.CMS.20Y(2025-07-08) - (EUR.CMS.2Y(2025-07-08) * 2)), 0.0)) + max((EUR.CMS.20Y(2026-07-08) - (EUR.CMS.2Y(2026-07-08) * 2)), 0.0))) + max((EUR.CMS.20Y(2027-07-08) - (EUR.CMS.2Y(2027-07-08) * 2)), 0.0))) + max((EUR.CMS.20Y(2028-07-08) - (EUR.CMS.2Y(2028-07-08) * 2)), 0.0))) + max((EUR.CMS.20Y(2029-07-08) - (EUR.CMS.2Y(2029-07-08) * 2)), 0.0))) + max((EUR.CMS.20Y(2030-07-08) - (EUR.CMS.2Y(2030-07-08) * 2)), 0.0))) + max((EUR.CMS.20Y(2031-07-08) - (EUR.CMS.2Y(2031-07-08) * 2)), 0.0))) + max((EUR.CMS.20Y(2032-07-08) - (EUR.CMS.2Y(2032-07-08) * 2)), 0.0))) - 0.1) is positive then\n",
      "                                None\n",
      "                            else\n",
      "                                (EUR.LIBOR.6M(2031-07-08) + 0.002)\t1000000\tEUR\t2032-01-10\n",
      "                                (EUR.LIBOR.6M(2032-01-08) + 0.002)\t1000000\tEUR\t2032-07-10\n",
      "                                max((EUR.CMS.20Y(2032-07-08) - (EUR.CMS.2Y(2032-07-08) * 2)), 0.0))\t-1000000\tEUR\t2032-07-10\n",
      "                                if (((((((((max((EUR.CMS.20Y(2025-07-08) - (EUR.CMS.2Y(2025-07-08) * 2)), 0.0)) + max((EUR.CMS.20Y(2026-07-08) - (EUR.CMS.2Y(2026-07-08) * 2)), 0.0))) + max((EUR.CMS.20Y(2027-07-08) - (EUR.CMS.2Y(2027-07-08) * 2)), 0.0))) + max((EUR.CMS.20Y(2028-07-08) - (EUR.CMS.2Y(2028-07-08) * 2)), 0.0))) + max((EUR.CMS.20Y(2029-07-08) - (EUR.CMS.2Y(2029-07-08) * 2)), 0.0))) + max((EUR.CMS.20Y(2030-07-08) - (EUR.CMS.2Y(2030-07-08) * 2)), 0.0))) + max((EUR.CMS.20Y(2031-07-08) - (EUR.CMS.2Y(2031-07-08) * 2)), 0.0))) + max((EUR.CMS.20Y(2032-07-08) - (EUR.CMS.2Y(2032-07-08) * 2)), 0.0))) + max((EUR.CMS.20Y(2033-07-08) - (EUR.CMS.2Y(2033-07-08) * 2)), 0.0))) - 0.1) is positive then\n",
      "                                    None\n",
      "                                else\n",
      "                                    (EUR.LIBOR.6M(2032-07-08) + 0.002)\t1000000\tEUR\t2033-01-10\n",
      "                                    (EUR.LIBOR.6M(2033-01-08) + 0.002)\t1000000\tEUR\t2033-07-10\n",
      "                                    max((EUR.CMS.20Y(2033-07-08) - (EUR.CMS.2Y(2033-07-08) * 2)), 0.0))\t-1000000\tEUR\t2033-07-10\n",
      "                                    if ((((((((((max((EUR.CMS.20Y(2025-07-08) - (EUR.CMS.2Y(2025-07-08) * 2)), 0.0)) + max((EUR.CMS.20Y(2026-07-08) - (EUR.CMS.2Y(2026-07-08) * 2)), 0.0))) + max((EUR.CMS.20Y(2027-07-08) - (EUR.CMS.2Y(2027-07-08) * 2)), 0.0))) + max((EUR.CMS.20Y(2028-07-08) - (EUR.CMS.2Y(2028-07-08) * 2)), 0.0))) + max((EUR.CMS.20Y(2029-07-08) - (EUR.CMS.2Y(2029-07-08) * 2)), 0.0))) + max((EUR.CMS.20Y(2030-07-08) - (EUR.CMS.2Y(2030-07-08) * 2)), 0.0))) + max((EUR.CMS.20Y(2031-07-08) - (EUR.CMS.2Y(2031-07-08) * 2)), 0.0))) + max((EUR.CMS.20Y(2032-07-08) - (EUR.CMS.2Y(2032-07-08) * 2)), 0.0))) + max((EUR.CMS.20Y(2033-07-08) - (EUR.CMS.2Y(2033-07-08) * 2)), 0.0))) + max((EUR.CMS.20Y(2034-07-08) - (EUR.CMS.2Y(2034-07-08) * 2)), 0.0))) - 0.1) is positive then\n",
      "                                        None\n",
      "                                    else\n",
      "                                        (EUR.LIBOR.6M(2033-07-08) + 0.002)\t1000000\tEUR\t2034-01-10\n",
      "                                        (EUR.LIBOR.6M(2034-01-08) + 0.002)\t1000000\tEUR\t2034-07-10\n",
      "                                        max((EUR.CMS.20Y(2034-07-08) - (EUR.CMS.2Y(2034-07-08) * 2)), 0.0))\t-1000000\tEUR\t2034-07-10\n"
     ]
    }
   ],
   "source": [
    "# Create cumulative coupon observations\n",
    "coupons = [np.max(Observation(cms_20y, fixing) - 2 * Observation(cms_2y, fixing), 0.0) \n",
    "           for fixing in coupon_fixings]\n",
    "cumulative_coupons = np.cumsum(coupons)\n",
    "\n",
    "# TARN with 10% target\n",
    "target_level = 0.10  # 10%\n",
    "tarn = callable(\n",
    "    cumulative_coupons - target_level,  # Triggers when cumulative coupons exceed target\n",
    "    list(coupon_leg.contracts),\n",
    "    list(funding_leg.contracts),\n",
    "    cpn_per_call=1,\n",
    "    funding_per_call=2\n",
    ")\n",
    "\n",
    "print(\"TARN Structure:\")\n",
    "print(tarn)"
   ]
  },
  {
   "cell_type": "markdown",
   "id": "e6e05eb1",
   "metadata": {},
   "source": [
    "## 3. Advanced Features\n",
    "\n",
    "### 3.1 Decision-Based Optionality\n",
    "\n",
    "The system supports explicit modeling of decisions, which is useful for:\n",
    "- Settlement calculations\n",
    "- Bermudan option pricing using Longstaff-Schwartz\n",
    "- Smoothing digital payoffs for path-wise AAD"
   ]
  },
  {
   "cell_type": "code",
   "execution_count": 7,
   "id": "9b71b004",
   "metadata": {},
   "outputs": [
    {
     "name": "stdout",
     "output_type": "stream",
     "text": [
      "Option with explicit exercise decision:\n",
      "if TradeID_exercise(2024-07-10) is positive then\n",
      "    AAPL(2024-07-10)\t1000000\tEUR\t2024-07-10\n",
      "    100.0\t-1000000\tEUR\t2024-07-10\n",
      "else\n",
      "    None\n"
     ]
    }
   ],
   "source": [
    "# Example: European option with explicit exercise decision\n",
    "strike = 100.0\n",
    "expiry = datetime(2024, 7, 10)\n",
    "stock = Ticker(\"AAPL\", \"Yahoo\")\n",
    "\n",
    "# Create option with counterparty decision\n",
    "exercise_decision = Observation(Ticker(\"TradeID_exercise\", \"Counterparty\"), expiry)\n",
    "option_payoff = Option(\n",
    "    condition=exercise_decision,\n",
    "    contract1=Cashflow(Observation(stock, expiry), expiry, \"EUR\", notional) - \n",
    "             Cashflow(strike, expiry, \"EUR\", notional),\n",
    "    contract2=None\n",
    ")\n",
    "\n",
    "print(\"Option with explicit exercise decision:\")\n",
    "print(option_payoff)"
   ]
  }
 ],
 "metadata": {
  "kernelspec": {
   "display_name": "Python 3 (ipykernel)",
   "language": "python",
   "name": "python3"
  },
  "language_info": {
   "codemirror_mode": {
    "name": "ipython",
    "version": 3
   },
   "file_extension": ".py",
   "mimetype": "text/x-python",
   "name": "python",
   "nbconvert_exporter": "python",
   "pygments_lexer": "ipython3",
   "version": "3.11.2"
  }
 },
 "nbformat": 4,
 "nbformat_minor": 5
}
