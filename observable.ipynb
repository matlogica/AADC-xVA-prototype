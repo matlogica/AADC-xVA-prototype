{
 "cells": [
  {
   "cell_type": "code",
   "execution_count": 15,
   "id": "86e2645d-21a2-4b38-8934-887cf8b4499b",
   "metadata": {},
   "outputs": [],
   "source": [
    "import numpy as np\n",
    "from datetime import datetime\n",
    "from observable import Ticker, Observation"
   ]
  },
  {
   "cell_type": "markdown",
   "id": "5120b95e-3491-4cb7-8104-67838b9e4b13",
   "metadata": {},
   "source": [
    "### Trade cash flow description\n",
    "\n",
    "#### class Ticker\n",
    "Represents market index. symbol is id of the index and source is exchange. Doesn't contain any specific observation time.\n",
    "\n",
    "Example:"
   ]
  },
  {
   "cell_type": "code",
   "execution_count": 9,
   "id": "20589c37-73b6-4208-8db8-8f53c5b684f9",
   "metadata": {},
   "outputs": [
    {
     "data": {
      "text/plain": [
       "AAPL"
      ]
     },
     "execution_count": 9,
     "metadata": {},
     "output_type": "execute_result"
    }
   ],
   "source": [
    "aapl_ticker = Ticker('AAPL', 'NASDAQ')\n",
    "aapl_ticker"
   ]
  },
  {
   "cell_type": "markdown",
   "id": "745831ea-2f2a-465d-b966-a67fc8777ba8",
   "metadata": {},
   "source": [
    "#### class Observation\n",
    "\n",
    "Represents Ticker observation at a specific time. Contains ticker and time of observation."
   ]
  },
  {
   "cell_type": "code",
   "execution_count": 13,
   "id": "cccb016f-b29c-46a0-acdd-d4adb632777c",
   "metadata": {},
   "outputs": [
    {
     "data": {
      "text/plain": [
       "AAPL(2024-07-26)"
      ]
     },
     "execution_count": 13,
     "metadata": {},
     "output_type": "execute_result"
    }
   ],
   "source": [
    "stock = Observation(aapl_ticker, datetime(2024, 7, 26))\n",
    "stock"
   ]
  },
  {
   "cell_type": "markdown",
   "id": "043d5b72-a257-4475-aec7-c37ef02e2b04",
   "metadata": {},
   "source": [
    "#### class Observable\n",
    "Represents an expression(formula) that can include Observations. It can be evaluated if all Observations are available or can be simulated by a model."
   ]
  },
  {
   "cell_type": "code",
   "execution_count": 17,
   "id": "cb54b85e-a328-477e-8258-1a72848b7793",
   "metadata": {},
   "outputs": [
    {
     "name": "stdout",
     "output_type": "stream",
     "text": [
      "max((AAPL(2024-07-26) - 100), 0))\n"
     ]
    }
   ],
   "source": [
    "payoff = np.max(stock - 100, 0)\n",
    "print(payoff)"
   ]
  },
  {
   "cell_type": "markdown",
   "id": "69f668ae-cf92-4fcd-a437-4e727f48e8ac",
   "metadata": {},
   "source": [
    "Note that the observable is not evaluated instead we have a symbolic representation of the expression."
   ]
  }
 ],
 "metadata": {
  "kernelspec": {
   "display_name": "Python 3 (ipykernel)",
   "language": "python",
   "name": "python3"
  },
  "language_info": {
   "codemirror_mode": {
    "name": "ipython",
    "version": 3
   },
   "file_extension": ".py",
   "mimetype": "text/x-python",
   "name": "python",
   "nbconvert_exporter": "python",
   "pygments_lexer": "ipython3",
   "version": "3.11.2"
  }
 },
 "nbformat": 4,
 "nbformat_minor": 5
}
