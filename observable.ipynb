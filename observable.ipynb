{
 "cells": [
  {
   "cell_type": "markdown",
   "id": "44ce504a",
   "metadata": {},
   "source": [
    "# Financial Observable Pattern Implementation\n",
    "\n",
    "This notebook demonstrates the implementation of the Observable pattern for financial calculations, particularly useful for:\n",
    "- Handling market data observations\n",
    "- Creating symbolic representations of financial calculations\n",
    "- Supporting delayed evaluation of financial expressions\n",
    "\n",
    "The implementation consists of three main classes:\n",
    "1. `Ticker`: Represents market indices\n",
    "2. `Observation`: Represents market observations at specific times\n",
    "3. `Observable`: Base class for creating symbolic mathematical expressions"
   ]
  },
  {
   "cell_type": "code",
   "execution_count": 1,
   "id": "a1db3706",
   "metadata": {},
   "outputs": [],
   "source": [
    "import numpy as np\n",
    "from datetime import datetime\n",
    "from observable import Ticker, Observation"
   ]
  },
  {
   "cell_type": "markdown",
   "id": "c27ac05b",
   "metadata": {},
   "source": [
    "## Class Descriptions and Usage Examples\n",
    "\n",
    "### 1. Ticker Class\n",
    "The `Ticker` class represents a market index or symbol with its source. It's the fundamental building block for creating observations.\n",
    "\n",
    "Key attributes:\n",
    "- `symbol`: Identifier for the market index (e.g., 'AAPL', 'USDJPY')\n",
    "- `source`: Data source or exchange (e.g., 'NASDAQ', 'Reuters')"
   ]
  },
  {
   "cell_type": "code",
   "execution_count": 2,
   "id": "1eecc2e0",
   "metadata": {},
   "outputs": [
    {
     "name": "stdout",
     "output_type": "stream",
     "text": [
      "Ticker: AAPL\n",
      "Forex Ticker: USDJPY\n"
     ]
    }
   ],
   "source": [
    "# Create a ticker for Apple stock\n",
    "aapl_ticker = Ticker('AAPL', 'NASDAQ')\n",
    "print(f\"Ticker: {aapl_ticker}\")\n",
    "\n",
    "# Create a ticker for USD/JPY exchange rate\n",
    "usdjpy_ticker = Ticker('USDJPY', 'Reuters')\n",
    "print(f\"Forex Ticker: {usdjpy_ticker}\")"
   ]
  },
  {
   "cell_type": "markdown",
   "id": "261b8064",
   "metadata": {},
   "source": [
    "### 2. Observation Class\n",
    "The `Observation` class combines a ticker with a specific datetime to represent a market observation point.\n",
    "\n",
    "Key components:\n",
    "- `ticker`: Reference to a Ticker object\n",
    "- `fixing_datetime`: The specific time of observation"
   ]
  },
  {
   "cell_type": "code",
   "execution_count": 3,
   "id": "7698a53c",
   "metadata": {},
   "outputs": [
    {
     "name": "stdout",
     "output_type": "stream",
     "text": [
      "July observation: AAPL(2024-07-26)\n",
      "August observation: AAPL(2024-08-26)\n"
     ]
    }
   ],
   "source": [
    "# Create observations for different dates\n",
    "aapl_july = Observation(aapl_ticker, datetime(2024, 7, 26))\n",
    "aapl_august = Observation(aapl_ticker, datetime(2024, 8, 26))\n",
    "\n",
    "print(f\"July observation: {aapl_july}\")\n",
    "print(f\"August observation: {aapl_august}\")"
   ]
  },
  {
   "cell_type": "markdown",
   "id": "b25defb5",
   "metadata": {},
   "source": [
    "### 3. Observable Operations\n",
    "The system supports creating symbolic mathematical expressions using numpy operations and basic arithmetic.\n",
    "\n",
    "Examples of supported operations:\n",
    "- Basic arithmetic (+, -, *, /)\n",
    "- NumPy functions (np.max, np.min)\n",
    "\n",
    "These expressions remain unevaluated until explicitly computed with actual values."
   ]
  },
  {
   "cell_type": "code",
   "execution_count": 4,
   "id": "47b2f686",
   "metadata": {},
   "outputs": [
    {
     "name": "stdout",
     "output_type": "stream",
     "text": [
      "Call option payoff expression: max((AAPL(2024-07-26) - 100), 0))\n",
      "Calendar spread expression: (AAPL(2024-08-26) - AAPL(2024-07-26))\n"
     ]
    }
   ],
   "source": [
    "# Example 1: Call option payoff\n",
    "strike_price = 100\n",
    "call_payoff = np.max(aapl_july - strike_price, 0)\n",
    "print(f\"Call option payoff expression: {call_payoff}\")\n",
    "\n",
    "# Example 2: Calendar spread\n",
    "calendar_spread = aapl_august - aapl_july\n",
    "print(f\"Calendar spread expression: {calendar_spread}\")"
   ]
  },
  {
   "cell_type": "markdown",
   "id": "26f207c2",
   "metadata": {},
   "source": [
    "## Advanced Usage Examples\n",
    "\n",
    "The Observable pattern is particularly useful for creating complex financial expressions that can be:\n",
    "1. Serialized to JSON for storage or transmission\n",
    "2. Evaluated at a later time when market data becomes available\n",
    "3. Used in risk calculations and scenario analysis"
   ]
  },
  {
   "cell_type": "code",
   "execution_count": 6,
   "id": "0e5b7315",
   "metadata": {},
   "outputs": [
    {
     "name": "stdout",
     "output_type": "stream",
     "text": [
      "Bull spread expression: (max((AAPL(2024-07-26) - 95), 0)) - max((AAPL(2024-07-26) - 105), 0)))\n"
     ]
    }
   ],
   "source": [
    "# Complex expression example: Option strategy\n",
    "strike1, strike2 = 95, 105\n",
    "bull_spread = np.max(aapl_july - strike1, 0) - np.max(aapl_july - strike2, 0)\n",
    "print(f\"Bull spread expression: {bull_spread}\")\n"
   ]
  }
 ],
 "metadata": {
  "kernelspec": {
   "display_name": "Python 3 (ipykernel)",
   "language": "python",
   "name": "python3"
  },
  "language_info": {
   "codemirror_mode": {
    "name": "ipython",
    "version": 3
   },
   "file_extension": ".py",
   "mimetype": "text/x-python",
   "name": "python",
   "nbconvert_exporter": "python",
   "pygments_lexer": "ipython3",
   "version": "3.11.2"
  }
 },
 "nbformat": 4,
 "nbformat_minor": 5
}
