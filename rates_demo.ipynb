{
 "cells": [
  {
   "cell_type": "markdown",
   "metadata": {},
   "source": [
    "# Interest Rate Products Construction Tutorial\n",
    "\n",
    "This notebook demonstrates how to construct various interest rate products using the contract system. We use QuantLib under the hood for proper business calendars, day count conventions, and schedule generation.\n",
    "\n",
    "Products covered:\n",
    "1. Fixed Rate Leg\n",
    "2. Floating Rate Leg\n",
    "3. Interest Rate Swap\n",
    "4. European Swaptions (Physical & Cash)\n",
    "5. Bermudan Cancellable Swap"
   ]
  },
  {
   "cell_type": "code",
   "execution_count": 9,
   "metadata": {},
   "outputs": [],
   "source": [
    "import inspect\n",
    "from datetime import datetime\n",
    "from rates import fixed_leg, float_leg, swap, physical_swaption, cash_settled_swaption, bermudan_cancellable\n",
    "from contract import Observation, Contract, Leg"
   ]
  },
  {
   "cell_type": "markdown",
   "metadata": {},
   "source": [
    "## 1. Fixed Rate Leg\n",
    "\n",
    "Let's create a 5-year fixed rate leg with semi-annual payments."
   ]
  },
  {
   "cell_type": "code",
   "execution_count": 14,
   "metadata": {},
   "outputs": [
    {
     "name": "stdout",
     "output_type": "stream",
     "text": [
      "Fixed Rate Leg Structure:\n",
      "0.015\t10000000\tUSD\t2025-08-28\n",
      "0.014916666666666667\t10000000\tUSD\t2026-02-27\n",
      "0.015083333333333332\t10000000\tUSD\t2026-08-28\n",
      "0.014833333333333334\t10000000\tUSD\t2027-02-26\n",
      "0.01533333333333333\t10000000\tUSD\t2027-08-30\n",
      "0.014833333333333334\t10000000\tUSD\t2028-02-28\n",
      "0.015\t10000000\tUSD\t2028-08-28\n",
      "0.015\t10000000\tUSD\t2029-02-28\n",
      "0.015\t10000000\tUSD\t2029-08-28\n",
      "0.015\t10000000\tUSD\t2030-02-28\n",
      "Calculate fixed leg payment dates and cash flows.\n",
      "\n",
      "Args:\n",
      "    effective_date: Start date as datetime or string 'YYYY-MM-DD'\n",
      "    termination_date: End date as datetime or string 'YYYY-MM-DD'\n",
      "    fixed_rate: Annual fixed rate as decimal (e.g., 0.03 for 3%)\n",
      "    notional: Notional amount\n",
      "    currency: Currency code (e.g., 'USD', 'EUR')\n",
      "    payment_frequency: String frequency specifier ('1M', '3M', '6M', '1Y', etc.)\n",
      "    calendar_name: Calendar name ('USA', 'UK', 'TARGET', etc.)\n",
      "    business_day_convention: Date convention ('MF'=Modified Following, 'F'=Following, 'P'=Preceding)\n",
      "    date_generation: Schedule generation rule ('forward', 'backward')\n",
      "    end_of_month: Boolean flag for end of month rule\n",
      "    day_count: Day count convention ('30/360', 'ACT/360', 'ACT/365', etc.)\n",
      "    \n",
      "Returns:\n",
      "    List of dictionaries containing payment information for each period\n"
     ]
    }
   ],
   "source": [
    "# Create 5Y fixed rate leg\n",
    "fixed = fixed_leg(\n",
    "    effective_date=\"2025-02-28\",\n",
    "    termination_date=\"2030-02-28\",\n",
    "    fixed_rate=0.03,  # 3.00%\n",
    "    notional=10_000_000,\n",
    "    currency=\"USD\",\n",
    "    payment_frequency=\"6M\",  # Semi-annual\n",
    "    calendar_name=\"USA\",\n",
    "    day_count=\"30/360\"\n",
    ")\n",
    "\n",
    "print(\"Fixed Rate Leg Structure:\")\n",
    "print(fixed)\n",
    "print(inspect.getdoc(fixed_leg))\n",
    "#print(inspect.getsource(fixed_leg))"
   ]
  },
  {
   "cell_type": "markdown",
   "metadata": {},
   "source": [
    "## 2. Floating Rate Leg\n",
    "\n",
    "Now let's create a matching floating rate leg with quarterly payments."
   ]
  },
  {
   "cell_type": "code",
   "execution_count": 3,
   "metadata": {},
   "outputs": [
    {
     "name": "stdout",
     "output_type": "stream",
     "text": [
      "Floating Rate Leg Structure:\n",
      "(USD-LIBOR-3M(2025-02-26) * 0.24722222222222223)\t10000000\tUSD\t2025-05-28\n",
      "(USD-LIBOR-3M(2025-05-23) * 0.25555555555555554)\t10000000\tUSD\t2025-08-28\n",
      "(USD-LIBOR-3M(2025-08-26) * 0.25555555555555554)\t10000000\tUSD\t2025-11-28\n",
      "(USD-LIBOR-3M(2025-11-25) * 0.25277777777777777)\t10000000\tUSD\t2026-02-27\n",
      "(USD-LIBOR-3M(2026-02-25) * 0.25)\t10000000\tUSD\t2026-05-28\n",
      "(USD-LIBOR-3M(2026-05-26) * 0.25555555555555554)\t10000000\tUSD\t2026-08-28\n",
      "(USD-LIBOR-3M(2026-08-26) * 0.2611111111111111)\t10000000\tUSD\t2026-11-30\n",
      "(USD-LIBOR-3M(2026-11-25) * 0.24444444444444444)\t10000000\tUSD\t2027-02-26\n",
      "(USD-LIBOR-3M(2027-02-24) * 0.25277777777777777)\t10000000\tUSD\t2027-05-28\n",
      "(USD-LIBOR-3M(2027-05-26) * 0.2611111111111111)\t10000000\tUSD\t2027-08-30\n",
      "(USD-LIBOR-3M(2027-08-26) * 0.25277777777777777)\t10000000\tUSD\t2027-11-29\n",
      "(USD-LIBOR-3M(2027-11-24) * 0.25277777777777777)\t10000000\tUSD\t2028-02-28\n",
      "(USD-LIBOR-3M(2028-02-24) * 0.25555555555555554)\t10000000\tUSD\t2028-05-30\n",
      "(USD-LIBOR-3M(2028-05-25) * 0.25)\t10000000\tUSD\t2028-08-28\n",
      "(USD-LIBOR-3M(2028-08-24) * 0.25555555555555554)\t10000000\tUSD\t2028-11-28\n",
      "(USD-LIBOR-3M(2028-11-24) * 0.25555555555555554)\t10000000\tUSD\t2029-02-28\n",
      "(USD-LIBOR-3M(2029-02-26) * 0.25)\t10000000\tUSD\t2029-05-29\n",
      "(USD-LIBOR-3M(2029-05-24) * 0.25277777777777777)\t10000000\tUSD\t2029-08-28\n",
      "(USD-LIBOR-3M(2029-08-24) * 0.25555555555555554)\t10000000\tUSD\t2029-11-28\n",
      "(USD-LIBOR-3M(2029-11-26) * 0.25555555555555554)\t10000000\tUSD\t2030-02-28\n"
     ]
    }
   ],
   "source": [
    "# Create 5Y floating rate leg\n",
    "floating = float_leg(\n",
    "    effective_date=\"2025-02-28\",\n",
    "    termination_date=\"2030-02-28\",\n",
    "    notional=10_000_000,\n",
    "    currency=\"USD\",\n",
    "    index_id=\"USD-LIBOR-3M\",\n",
    "    payment_frequency=\"3M\",  # Quarterly\n",
    "    calendar_name=\"USA\",\n",
    "    day_count=\"ACT/360\"\n",
    ")\n",
    "\n",
    "print(\"Floating Rate Leg Structure:\")\n",
    "print(floating)"
   ]
  },
  {
   "cell_type": "markdown",
   "metadata": {},
   "source": [
    "## 3. Interest Rate Swap\n",
    "\n",
    "Combine fixed and floating legs into a swap."
   ]
  },
  {
   "cell_type": "code",
   "execution_count": 4,
   "metadata": {},
   "outputs": [
    {
     "name": "stdout",
     "output_type": "stream",
     "text": [
      "Swap Structure:\n",
      "0.015\t10000000\tUSD\t2025-08-28\n",
      "0.014916666666666667\t10000000\tUSD\t2026-02-27\n",
      "0.015083333333333332\t10000000\tUSD\t2026-08-28\n",
      "0.014833333333333334\t10000000\tUSD\t2027-02-26\n",
      "0.01533333333333333\t10000000\tUSD\t2027-08-30\n",
      "0.014833333333333334\t10000000\tUSD\t2028-02-28\n",
      "0.015\t10000000\tUSD\t2028-08-28\n",
      "0.015\t10000000\tUSD\t2029-02-28\n",
      "0.015\t10000000\tUSD\t2029-08-28\n",
      "0.015\t10000000\tUSD\t2030-02-28\n",
      "(USD-LIBOR-3M(2025-02-26) * 0.24722222222222223)\t-10000000\tUSD\t2025-05-28\n",
      "(USD-LIBOR-3M(2025-05-23) * 0.25555555555555554)\t-10000000\tUSD\t2025-08-28\n",
      "(USD-LIBOR-3M(2025-08-26) * 0.25555555555555554)\t-10000000\tUSD\t2025-11-28\n",
      "(USD-LIBOR-3M(2025-11-25) * 0.25277777777777777)\t-10000000\tUSD\t2026-02-27\n",
      "(USD-LIBOR-3M(2026-02-25) * 0.25)\t-10000000\tUSD\t2026-05-28\n",
      "(USD-LIBOR-3M(2026-05-26) * 0.25555555555555554)\t-10000000\tUSD\t2026-08-28\n",
      "(USD-LIBOR-3M(2026-08-26) * 0.2611111111111111)\t-10000000\tUSD\t2026-11-30\n",
      "(USD-LIBOR-3M(2026-11-25) * 0.24444444444444444)\t-10000000\tUSD\t2027-02-26\n",
      "(USD-LIBOR-3M(2027-02-24) * 0.25277777777777777)\t-10000000\tUSD\t2027-05-28\n",
      "(USD-LIBOR-3M(2027-05-26) * 0.2611111111111111)\t-10000000\tUSD\t2027-08-30\n",
      "(USD-LIBOR-3M(2027-08-26) * 0.25277777777777777)\t-10000000\tUSD\t2027-11-29\n",
      "(USD-LIBOR-3M(2027-11-24) * 0.25277777777777777)\t-10000000\tUSD\t2028-02-28\n",
      "(USD-LIBOR-3M(2028-02-24) * 0.25555555555555554)\t-10000000\tUSD\t2028-05-30\n",
      "(USD-LIBOR-3M(2028-05-25) * 0.25)\t-10000000\tUSD\t2028-08-28\n",
      "(USD-LIBOR-3M(2028-08-24) * 0.25555555555555554)\t-10000000\tUSD\t2028-11-28\n",
      "(USD-LIBOR-3M(2028-11-24) * 0.25555555555555554)\t-10000000\tUSD\t2029-02-28\n",
      "(USD-LIBOR-3M(2029-02-26) * 0.25)\t-10000000\tUSD\t2029-05-29\n",
      "(USD-LIBOR-3M(2029-05-24) * 0.25277777777777777)\t-10000000\tUSD\t2029-08-28\n",
      "(USD-LIBOR-3M(2029-08-24) * 0.25555555555555554)\t-10000000\tUSD\t2029-11-28\n",
      "(USD-LIBOR-3M(2029-11-26) * 0.25555555555555554)\t-10000000\tUSD\t2030-02-28\n"
     ]
    }
   ],
   "source": [
    "# Create 5Y swap\n",
    "swap_contract = swap(\n",
    "    effective_date=\"2025-02-28\",\n",
    "    termination_date=\"2030-02-28\",\n",
    "    notional=10_000_000,\n",
    "    fixed_rate=0.03,\n",
    "    currency=\"USD\",\n",
    "    index_id=\"USD-LIBOR-3M\",\n",
    "    fixed_payment_frequency=\"6M\",\n",
    "    float_payment_frequency=\"3M\"\n",
    ")\n",
    "\n",
    "print(\"Swap Structure:\")\n",
    "print(swap_contract)"
   ]
  },
  {
   "cell_type": "markdown",
   "metadata": {},
   "source": [
    "## 4. Swaptions\n",
    "\n",
    "### 4.1 Physical Settlement"
   ]
  },
  {
   "cell_type": "code",
   "execution_count": 5,
   "metadata": {},
   "outputs": [
    {
     "name": "stdout",
     "output_type": "stream",
     "text": [
      "Physical Swaption Structure:\n",
      "if Call(2025-02-28) is positive then\n",
      "    0.015\t10000000\tUSD\t2025-08-28\n",
      "    0.014916666666666667\t10000000\tUSD\t2026-02-27\n",
      "    0.015083333333333332\t10000000\tUSD\t2026-08-28\n",
      "    0.014833333333333334\t10000000\tUSD\t2027-02-26\n",
      "    0.01533333333333333\t10000000\tUSD\t2027-08-30\n",
      "    0.014833333333333334\t10000000\tUSD\t2028-02-28\n",
      "    0.015\t10000000\tUSD\t2028-08-28\n",
      "    0.015\t10000000\tUSD\t2029-02-28\n",
      "    0.015\t10000000\tUSD\t2029-08-28\n",
      "    0.015\t10000000\tUSD\t2030-02-28\n",
      "    (USD-LIBOR-3M(2025-02-26) * 0.24722222222222223)\t-10000000\tUSD\t2025-05-28\n",
      "    (USD-LIBOR-3M(2025-05-23) * 0.25555555555555554)\t-10000000\tUSD\t2025-08-28\n",
      "    (USD-LIBOR-3M(2025-08-26) * 0.25555555555555554)\t-10000000\tUSD\t2025-11-28\n",
      "    (USD-LIBOR-3M(2025-11-25) * 0.25277777777777777)\t-10000000\tUSD\t2026-02-27\n",
      "    (USD-LIBOR-3M(2026-02-25) * 0.25)\t-10000000\tUSD\t2026-05-28\n",
      "    (USD-LIBOR-3M(2026-05-26) * 0.25555555555555554)\t-10000000\tUSD\t2026-08-28\n",
      "    (USD-LIBOR-3M(2026-08-26) * 0.2611111111111111)\t-10000000\tUSD\t2026-11-30\n",
      "    (USD-LIBOR-3M(2026-11-25) * 0.24444444444444444)\t-10000000\tUSD\t2027-02-26\n",
      "    (USD-LIBOR-3M(2027-02-24) * 0.25277777777777777)\t-10000000\tUSD\t2027-05-28\n",
      "    (USD-LIBOR-3M(2027-05-26) * 0.2611111111111111)\t-10000000\tUSD\t2027-08-30\n",
      "    (USD-LIBOR-3M(2027-08-26) * 0.25277777777777777)\t-10000000\tUSD\t2027-11-29\n",
      "    (USD-LIBOR-3M(2027-11-24) * 0.25277777777777777)\t-10000000\tUSD\t2028-02-28\n",
      "    (USD-LIBOR-3M(2028-02-24) * 0.25555555555555554)\t-10000000\tUSD\t2028-05-30\n",
      "    (USD-LIBOR-3M(2028-05-25) * 0.25)\t-10000000\tUSD\t2028-08-28\n",
      "    (USD-LIBOR-3M(2028-08-24) * 0.25555555555555554)\t-10000000\tUSD\t2028-11-28\n",
      "    (USD-LIBOR-3M(2028-11-24) * 0.25555555555555554)\t-10000000\tUSD\t2029-02-28\n",
      "    (USD-LIBOR-3M(2029-02-26) * 0.25)\t-10000000\tUSD\t2029-05-29\n",
      "    (USD-LIBOR-3M(2029-05-24) * 0.25277777777777777)\t-10000000\tUSD\t2029-08-28\n",
      "    (USD-LIBOR-3M(2029-08-24) * 0.25555555555555554)\t-10000000\tUSD\t2029-11-28\n",
      "    (USD-LIBOR-3M(2029-11-26) * 0.25555555555555554)\t-10000000\tUSD\t2030-02-28\n",
      "else\n",
      "    None\n"
     ]
    }
   ],
   "source": [
    "# Create physically settled swaption\n",
    "phys_swaption = physical_swaption(\n",
    "    option_expiry=datetime(2025, 2, 28),\n",
    "    underlying_swap=swap_contract,\n",
    "    counterparty=\"BANK_A\"\n",
    ")\n",
    "\n",
    "print(\"Physical Swaption Structure:\")\n",
    "print(phys_swaption)"
   ]
  },
  {
   "cell_type": "markdown",
   "metadata": {},
   "source": [
    "### 4.2 Cash Settlement"
   ]
  },
  {
   "cell_type": "code",
   "execution_count": 6,
   "metadata": {},
   "outputs": [
    {
     "name": "stdout",
     "output_type": "stream",
     "text": [
      "Cash-Settled Swaption Structure:\n",
      "max((USD-SWAP-5Y(2026-02-28) - 0.03), 0))\t10000000\tUSD\t2026-03-02\n"
     ]
    }
   ],
   "source": [
    "# Create cash-settled swaption\n",
    "cash_swaption = cash_settled_swaption(\n",
    "    option_expiry=datetime(2026, 2, 28),\n",
    "    swap_rate_ticker=\"USD-SWAP-5Y\",  # 5Y swap rate observation\n",
    "    notional=10_000_000,\n",
    "    currency=\"USD\",\n",
    "    strike=0.03,\n",
    "    payment_date=datetime(2026, 3, 2),  # T+2 settlement\n",
    "    option_type=\"Call\"\n",
    ")\n",
    "\n",
    "print(\"Cash-Settled Swaption Structure:\")\n",
    "print(cash_swaption)"
   ]
  },
  {
   "cell_type": "markdown",
   "metadata": {},
   "source": [
    "## 5. Bermudan Cancellable Swap\n",
    "\n",
    "Create a Bermudan cancellable swap with quarterly call dates. Note that call dates are independent of payment dates, following market convention."
   ]
  },
  {
   "cell_type": "code",
   "execution_count": 7,
   "metadata": {},
   "outputs": [
    {
     "name": "stdout",
     "output_type": "stream",
     "text": [
      "Bermudan Cancellable Swap Structure:\n",
      "0.015\t10000000\tUSD\t2025-08-28\n",
      "0.014916666666666667\t10000000\tUSD\t2026-02-27\n",
      "(USD-LIBOR-3M(2025-02-26) * 0.24722222222222223)\t-10000000\tUSD\t2025-05-28\n",
      "(USD-LIBOR-3M(2025-05-23) * 0.25555555555555554)\t-10000000\tUSD\t2025-08-28\n",
      "(USD-LIBOR-3M(2025-08-26) * 0.25555555555555554)\t-10000000\tUSD\t2025-11-28\n",
      "(USD-LIBOR-3M(2025-11-25) * 0.25277777777777777)\t-10000000\tUSD\t2026-02-27\n",
      "if Call(2026-02-28) is positive then\n",
      "    None\n",
      "else\n",
      "    0.015083333333333332\t10000000\tUSD\t2026-08-28\n",
      "    0.014833333333333334\t10000000\tUSD\t2027-02-26\n",
      "    (USD-LIBOR-3M(2026-02-25) * 0.25)\t-10000000\tUSD\t2026-05-28\n",
      "    (USD-LIBOR-3M(2026-05-26) * 0.25555555555555554)\t-10000000\tUSD\t2026-08-28\n",
      "    (USD-LIBOR-3M(2026-08-26) * 0.2611111111111111)\t-10000000\tUSD\t2026-11-30\n",
      "    (USD-LIBOR-3M(2026-11-25) * 0.24444444444444444)\t-10000000\tUSD\t2027-02-26\n",
      "    if Call(2027-02-28) is positive then\n",
      "        None\n",
      "    else\n",
      "        0.01533333333333333\t10000000\tUSD\t2027-08-30\n",
      "        0.014833333333333334\t10000000\tUSD\t2028-02-28\n",
      "        (USD-LIBOR-3M(2027-02-24) * 0.25277777777777777)\t-10000000\tUSD\t2027-05-28\n",
      "        (USD-LIBOR-3M(2027-05-26) * 0.2611111111111111)\t-10000000\tUSD\t2027-08-30\n",
      "        (USD-LIBOR-3M(2027-08-26) * 0.25277777777777777)\t-10000000\tUSD\t2027-11-29\n",
      "        (USD-LIBOR-3M(2027-11-24) * 0.25277777777777777)\t-10000000\tUSD\t2028-02-28\n",
      "        if Call(2028-02-28) is positive then\n",
      "            None\n",
      "        else\n",
      "            0.015\t10000000\tUSD\t2028-08-28\n",
      "            0.015\t10000000\tUSD\t2029-02-28\n",
      "            (USD-LIBOR-3M(2028-02-24) * 0.25555555555555554)\t-10000000\tUSD\t2028-05-30\n",
      "            (USD-LIBOR-3M(2028-05-25) * 0.25)\t-10000000\tUSD\t2028-08-28\n",
      "            (USD-LIBOR-3M(2028-08-24) * 0.25555555555555554)\t-10000000\tUSD\t2028-11-28\n",
      "            (USD-LIBOR-3M(2028-11-24) * 0.25555555555555554)\t-10000000\tUSD\t2029-02-28\n",
      "            if Call(2029-02-28) is positive then\n",
      "                None\n",
      "            else\n",
      "                0.015\t10000000\tUSD\t2029-08-28\n",
      "                0.015\t10000000\tUSD\t2030-02-28\n",
      "                (USD-LIBOR-3M(2029-02-26) * 0.25)\t-10000000\tUSD\t2029-05-29\n",
      "                (USD-LIBOR-3M(2029-05-24) * 0.25277777777777777)\t-10000000\tUSD\t2029-08-28\n",
      "                (USD-LIBOR-3M(2029-08-24) * 0.25555555555555554)\t-10000000\tUSD\t2029-11-28\n",
      "                (USD-LIBOR-3M(2029-11-26) * 0.25555555555555554)\t-10000000\tUSD\t2030-02-28\n",
      "                0.015\t10000000\tUSD\t2029-08-28\n",
      "                0.015\t10000000\tUSD\t2030-02-28\n",
      "                (USD-LIBOR-3M(2029-02-26) * 0.25)\t-10000000\tUSD\t2029-05-29\n",
      "                (USD-LIBOR-3M(2029-05-24) * 0.25277777777777777)\t-10000000\tUSD\t2029-08-28\n",
      "                (USD-LIBOR-3M(2029-08-24) * 0.25555555555555554)\t-10000000\tUSD\t2029-11-28\n",
      "                (USD-LIBOR-3M(2029-11-26) * 0.25555555555555554)\t-10000000\tUSD\t2030-02-28\n"
     ]
    }
   ],
   "source": [
    "# Call dates aligned with market convention\n",
    "call_dates = [\n",
    "    datetime(2026, 2, 28),  # First call date\n",
    "    datetime(2027, 2, 28),\n",
    "    datetime(2028, 2, 28),\n",
    "    datetime(2029, 2, 28)\n",
    "]  # Call dates are independent of payment dates\n",
    "\n",
    "# Create Bermudan cancellable structure\n",
    "bermudan = bermudan_cancellable(\n",
    "    exercise_dates=call_dates,\n",
    "    underlying_swap=swap_contract,\n",
    "    counterparty=\"BANK_A\",\n",
    "    option_type=\"Call\"\n",
    ")\n",
    "\n",
    "print(\"Bermudan Cancellable Swap Structure:\")\n",
    "print(bermudan)"
   ]
  }
 ],
 "metadata": {
  "kernelspec": {
   "display_name": "Python 3 (ipykernel)",
   "language": "python",
   "name": "python3"
  },
  "language_info": {
   "codemirror_mode": {
    "name": "ipython",
    "version": 3
   },
   "file_extension": ".py",
   "mimetype": "text/x-python",
   "name": "python",
   "nbconvert_exporter": "python",
   "pygments_lexer": "ipython3",
   "version": "3.11.2"
  }
 },
 "nbformat": 4,
 "nbformat_minor": 4
}
